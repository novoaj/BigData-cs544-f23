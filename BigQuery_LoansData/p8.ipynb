{
 "cells": [
  {
   "cell_type": "code",
   "execution_count": 1,
   "id": "78df9caf-f0a8-435d-b48e-068371d7594a",
   "metadata": {},
   "outputs": [],
   "source": [
    "from google.cloud import bigquery\n",
    "bq = bigquery.Client()"
   ]
  },
  {
   "cell_type": "code",
   "execution_count": 2,
   "id": "8459f186-7e75-4ed3-9b19-ebe45568facc",
   "metadata": {},
   "outputs": [
    {
     "data": {
      "text/html": [
       "<div>\n",
       "<style scoped>\n",
       "    .dataframe tbody tr th:only-of-type {\n",
       "        vertical-align: middle;\n",
       "    }\n",
       "\n",
       "    .dataframe tbody tr th {\n",
       "        vertical-align: top;\n",
       "    }\n",
       "\n",
       "    .dataframe thead th {\n",
       "        text-align: right;\n",
       "    }\n",
       "</style>\n",
       "<table border=\"1\" class=\"dataframe\">\n",
       "  <thead>\n",
       "    <tr style=\"text-align: right;\">\n",
       "      <th></th>\n",
       "      <th>num_rows</th>\n",
       "    </tr>\n",
       "  </thead>\n",
       "  <tbody>\n",
       "    <tr>\n",
       "      <th>0</th>\n",
       "      <td>3233</td>\n",
       "    </tr>\n",
       "  </tbody>\n",
       "</table>\n",
       "</div>"
      ],
      "text/plain": [
       "   num_rows\n",
       "0      3233"
      ]
     },
     "execution_count": 2,
     "metadata": {},
     "output_type": "execute_result"
    }
   ],
   "source": [
    "# q = bq.query(\n",
    "# \"\"\"\n",
    "# --- your query here ---\n",
    "# \"\"\")\n",
    "# q.to_dataframe()\n",
    "q = bq.query(\n",
    "\"\"\"\n",
    "select count(*) as num_rows \n",
    "from bigquery-public-data.geo_us_boundaries.counties\n",
    "\"\"\")\n",
    "q.to_dataframe()\n"
   ]
  },
  {
   "cell_type": "code",
   "execution_count": 3,
   "id": "b9d5d69a-95eb-4a1f-947e-e199f7a8dbed",
   "metadata": {},
   "outputs": [
    {
     "data": {
      "text/plain": [
       "'55025'"
      ]
     },
     "execution_count": 3,
     "metadata": {},
     "output_type": "execute_result"
    }
   ],
   "source": [
    "#Q1: what is the geo_id for Dane county? (note that Madison is in Dane county).\n",
    "q1 = bq.query(\n",
    "\"\"\"\n",
    "select geo_id, state_fips_code \n",
    "from bigquery-public-data.geo_us_boundaries.counties\n",
    "where county_name = 'Dane'\n",
    "\"\"\", job_config=bigquery.QueryJobConfig(use_query_cache=False))\n",
    "q1.to_dataframe().iloc[0][\"geo_id\"]"
   ]
  },
  {
   "cell_type": "code",
   "execution_count": 4,
   "id": "bb94768e-99e5-47c5-92ba-74d4e0fd231d",
   "metadata": {},
   "outputs": [
    {
     "data": {
      "text/plain": [
       "{'48': 254, '13': 159, '51': 133, '21': 120, '29': 115}"
      ]
     },
     "execution_count": 4,
     "metadata": {},
     "output_type": "execute_result"
    }
   ],
   "source": [
    "#Q2: how many counties are there per state?\n",
    "# contruct dict mapping names: num_counties\n",
    "q2 = bq.query(\n",
    "\"\"\"\n",
    "select state_fips_code, count(*) as num_counties\n",
    "from bigquery-public-data.geo_us_boundaries.counties\n",
    "group by state_fips_code\n",
    "order by num_counties DESC\n",
    "LIMIT 5\n",
    "\"\"\", job_config=bigquery.QueryJobConfig(use_query_cache=False))\n",
    "dict_2 = q2.to_dataframe().to_dict(\"index\")\n",
    "result = {}\n",
    "for key in dict_2:\n",
    "    result[dict_2[key][\"state_fips_code\"]] = dict_2[key][\"num_counties\"]\n",
    "result"
   ]
  },
  {
   "cell_type": "code",
   "execution_count": 5,
   "id": "64dcbc64-ac4f-44d7-8059-2e918163b3b7",
   "metadata": {},
   "outputs": [
    {
     "data": {
      "text/plain": [
       "{'q1': 5.9604644775390625e-05, 'q2': 5.9604644775390625e-05}"
      ]
     },
     "execution_count": 5,
     "metadata": {},
     "output_type": "execute_result"
    }
   ],
   "source": [
    "#Q3: about how much should the queries for the last two questions cost?\n",
    "result = {} # maps query : cost/TB\n",
    "queries = [q1,q2]\n",
    "keys = [\"q1\", \"q2\"]\n",
    "# IOWA is 6.25/TB\n",
    "for i in range(len(queries)):\n",
    "    cost = 6.25 * (queries[i].total_bytes_billed / (1024**4)) # num of TB q1 uses\n",
    "    result[keys[i]] = cost\n",
    "\n",
    "result"
   ]
  },
  {
   "cell_type": "code",
   "execution_count": 6,
   "id": "d6a03828-6ea2-437c-acc5-263bf7900618",
   "metadata": {},
   "outputs": [],
   "source": [
    "ds = bigquery.Dataset(\"cs544fall.p8\")"
   ]
  },
  {
   "cell_type": "code",
   "execution_count": 7,
   "id": "59b24be0-db4f-45bc-8177-3fe1339f29ea",
   "metadata": {},
   "outputs": [
    {
     "data": {
      "text/plain": [
       "Dataset(DatasetReference('cs544fall', 'p8'))"
      ]
     },
     "execution_count": 7,
     "metadata": {},
     "output_type": "execute_result"
    }
   ],
   "source": [
    "bq.create_dataset(ds, exists_ok=True)"
   ]
  },
  {
   "cell_type": "code",
   "execution_count": 8,
   "id": "b9511cee-f277-473a-961d-40102a813afc",
   "metadata": {},
   "outputs": [
    {
     "name": "stdout",
     "output_type": "stream",
     "text": [
      "p8\n",
      "pandasp8\n"
     ]
    }
   ],
   "source": [
    "for ds in bq.list_datasets(\"cs544fall\"):\n",
    "    print(ds.dataset_id)"
   ]
  },
  {
   "cell_type": "code",
   "execution_count": 9,
   "id": "6efc2d1b-5951-4e1f-a3ff-e8f53931bd98",
   "metadata": {},
   "outputs": [
    {
     "data": {
      "text/plain": [
       "LoadJob<project=cs544fall, location=US, id=acfa8ea6-2506-4333-bd50-d9c5cc713d5d>"
      ]
     },
     "execution_count": 9,
     "metadata": {},
     "output_type": "execute_result"
    }
   ],
   "source": [
    "config = bigquery.LoadJobConfig(source_format=\"PARQUET\", write_disposition=\"WRITE_TRUNCATE\")\n",
    "url = \"gs://pandasp8/hdma-wi-2021.parquet\"\n",
    "job = bq.load_table_from_uri(url, \"cs544fall.p8.hdma\", job_config=config)\n",
    "job.result()"
   ]
  },
  {
   "cell_type": "code",
   "execution_count": 10,
   "id": "3e26bdce-8925-480e-a582-d1c1bcd1278e",
   "metadata": {},
   "outputs": [
    {
     "data": {
      "text/plain": [
       "['p8', 'pandasp8']"
      ]
     },
     "execution_count": 10,
     "metadata": {},
     "output_type": "execute_result"
    }
   ],
   "source": [
    "#Q4: what are the datasets in your GCP project?\n",
    "[ds.dataset_id for ds in bq.list_datasets(\"cs544fall\")]"
   ]
  },
  {
   "cell_type": "code",
   "execution_count": 11,
   "id": "b83eb3c9-d20e-4195-9272-19d38c67f16f",
   "metadata": {},
   "outputs": [
    {
     "data": {
      "text/html": [
       "<div>\n",
       "<style scoped>\n",
       "    .dataframe tbody tr th:only-of-type {\n",
       "        vertical-align: middle;\n",
       "    }\n",
       "\n",
       "    .dataframe tbody tr th {\n",
       "        vertical-align: top;\n",
       "    }\n",
       "\n",
       "    .dataframe thead th {\n",
       "        text-align: right;\n",
       "    }\n",
       "</style>\n",
       "<table border=\"1\" class=\"dataframe\">\n",
       "  <thead>\n",
       "    <tr style=\"text-align: right;\">\n",
       "      <th></th>\n",
       "      <th>county_name</th>\n",
       "      <th>count_loans</th>\n",
       "    </tr>\n",
       "  </thead>\n",
       "  <tbody>\n",
       "    <tr>\n",
       "      <th>0</th>\n",
       "      <td>Milwaukee</td>\n",
       "      <td>46570</td>\n",
       "    </tr>\n",
       "    <tr>\n",
       "      <th>1</th>\n",
       "      <td>Dane</td>\n",
       "      <td>38557</td>\n",
       "    </tr>\n",
       "    <tr>\n",
       "      <th>2</th>\n",
       "      <td>Waukesha</td>\n",
       "      <td>34159</td>\n",
       "    </tr>\n",
       "    <tr>\n",
       "      <th>3</th>\n",
       "      <td>Brown</td>\n",
       "      <td>15615</td>\n",
       "    </tr>\n",
       "    <tr>\n",
       "      <th>4</th>\n",
       "      <td>Racine</td>\n",
       "      <td>13007</td>\n",
       "    </tr>\n",
       "    <tr>\n",
       "      <th>5</th>\n",
       "      <td>Outagamie</td>\n",
       "      <td>11523</td>\n",
       "    </tr>\n",
       "    <tr>\n",
       "      <th>6</th>\n",
       "      <td>Kenosha</td>\n",
       "      <td>10744</td>\n",
       "    </tr>\n",
       "    <tr>\n",
       "      <th>7</th>\n",
       "      <td>Washington</td>\n",
       "      <td>10726</td>\n",
       "    </tr>\n",
       "    <tr>\n",
       "      <th>8</th>\n",
       "      <td>Rock</td>\n",
       "      <td>9834</td>\n",
       "    </tr>\n",
       "    <tr>\n",
       "      <th>9</th>\n",
       "      <td>Winnebago</td>\n",
       "      <td>9310</td>\n",
       "    </tr>\n",
       "  </tbody>\n",
       "</table>\n",
       "</div>"
      ],
      "text/plain": [
       "  county_name  count_loans\n",
       "0   Milwaukee        46570\n",
       "1        Dane        38557\n",
       "2    Waukesha        34159\n",
       "3       Brown        15615\n",
       "4      Racine        13007\n",
       "5   Outagamie        11523\n",
       "6     Kenosha        10744\n",
       "7  Washington        10726\n",
       "8        Rock         9834\n",
       "9   Winnebago         9310"
      ]
     },
     "execution_count": 11,
     "metadata": {},
     "output_type": "execute_result"
    }
   ],
   "source": [
    "q5 = bq.query(\"\"\"\n",
    "    SELECT counties.county_name, count(*) as count_loans\n",
    "    FROM cs544fall.p8.hdma as hdma\n",
    "    INNER JOIN bigquery-public-data.geo_us_boundaries.counties as counties\n",
    "    ON counties.county_fips_code = hdma.county_code\n",
    "    GROUP BY counties.county_name\n",
    "    ORDER BY count_loans DESC\n",
    "    LIMIT 10\n",
    "\"\"\").to_dataframe()\n",
    "q5"
   ]
  },
  {
   "cell_type": "code",
   "execution_count": 12,
   "id": "5feaafa6-01f8-4aac-90f7-d56bb4e9772a",
   "metadata": {},
   "outputs": [
    {
     "data": {
      "text/plain": [
       "{'Milwaukee': 46570,\n",
       " 'Dane': 38557,\n",
       " 'Waukesha': 34159,\n",
       " 'Brown': 15615,\n",
       " 'Racine': 13007,\n",
       " 'Outagamie': 11523,\n",
       " 'Kenosha': 10744,\n",
       " 'Washington': 10726,\n",
       " 'Rock': 9834,\n",
       " 'Winnebago': 9310}"
      ]
     },
     "execution_count": 12,
     "metadata": {},
     "output_type": "execute_result"
    }
   ],
   "source": [
    "#Q5: how many loan applications are there in the HDMA data for each county?\n",
    "wi_counties_count = q5.to_dict(orient = \"split\", index=False)[\"data\"]\n",
    "dict(wi_counties_count)"
   ]
  },
  {
   "cell_type": "code",
   "execution_count": 13,
   "id": "3fc33dfb-0329-4405-8de8-7b13037bcaee",
   "metadata": {},
   "outputs": [],
   "source": [
    "url = \"https://docs.google.com/spreadsheets/d/11UeIBqQylAyNUBsIO54p6WiYJWHayQMfHDbUWq1jGco/\"\n",
    "\n",
    "external_config = bigquery.ExternalConfig(\"GOOGLE_SHEETS\")\n",
    "external_config.source_uris = [url]\n",
    "external_config.options.skip_leading_rows = 1\n",
    "external_config.autodetect = True\n",
    "\n",
    "table = bigquery.Table(\"cs544fall.p8.applications\")\n",
    "table.external_data_configuration = external_config\n",
    "\n",
    "table = bq.create_table(table, exists_ok=True)"
   ]
  },
  {
   "cell_type": "code",
   "execution_count": 14,
   "id": "c8960b3c-f6aa-4fb8-9e87-c1922265b828",
   "metadata": {},
   "outputs": [
    {
     "data": {
      "text/plain": [
       "2"
      ]
     },
     "execution_count": 14,
     "metadata": {},
     "output_type": "execute_result"
    }
   ],
   "source": [
    "#Q6: how many applications are there with your chosen income?\n",
    "q6 = bq.query(\"\"\"\n",
    "SELECT COUNT(*) as count_applications\n",
    "FROM cs544fall.p8.applications as applications\n",
    "WHERE income = 110000\n",
    "\"\"\").to_dataframe()\n",
    "q6.iloc[0][\"count_applications\"]"
   ]
  },
  {
   "cell_type": "code",
   "execution_count": 15,
   "id": "a417e15d-b938-4ec8-9403-7cd816e33b5b",
   "metadata": {},
   "outputs": [],
   "source": [
    "q7 = bq.query(\"\"\"\n",
    "SELECT counties.county_name, COUNT(*) \n",
    "FROM cs544fall.p8.applications as applications CROSS JOIN bigquery-public-data.geo_us_boundaries.counties as counties\n",
    "WHERE counties.state_fips_code = '55' AND ST_Within(ST_GEOGPOINT(applications.longitude, applications.latitude), counties.county_geom)\n",
    "GROUP BY counties.county_name\n",
    "\"\"\")\n",
    "#q7.to_dataframe()"
   ]
  },
  {
   "cell_type": "code",
   "execution_count": 16,
   "id": "45fe9eab-af0c-4904-9bde-4c6061858dbb",
   "metadata": {},
   "outputs": [
    {
     "data": {
      "text/plain": [
       "{'Dane': 70,\n",
       " 'Ozaukee': 1,\n",
       " 'Door': 20,\n",
       " 'Jefferson': 2,\n",
       " 'Monroe': 2,\n",
       " 'Sheboygan': 7,\n",
       " 'Columbia': 4,\n",
       " 'Adams': 1,\n",
       " 'St. Croix': 1,\n",
       " 'Marinette': 3,\n",
       " 'Oneida': 3,\n",
       " 'Bayfield': 5,\n",
       " 'Kewaunee': 3,\n",
       " 'Barron': 2,\n",
       " 'Walworth': 4,\n",
       " 'Ashland': 2,\n",
       " 'Manitowoc': 1,\n",
       " 'Wood': 2,\n",
       " 'Winnebago': 3,\n",
       " 'Iowa': 1,\n",
       " 'Green Lake': 2,\n",
       " 'Brown': 6,\n",
       " 'Milwaukee': 4,\n",
       " 'Chippewa': 1,\n",
       " 'Kenosha': 1,\n",
       " 'Sauk': 2,\n",
       " 'Fond du Lac': 1,\n",
       " 'Price': 1,\n",
       " 'Outagamie': 1,\n",
       " 'Dodge': 1,\n",
       " 'Marathon': 1,\n",
       " 'Polk': 1,\n",
       " 'Douglas': 1,\n",
       " 'Eau Claire': 1,\n",
       " 'Crawford': 1}"
      ]
     },
     "execution_count": 16,
     "metadata": {},
     "output_type": "execute_result"
    }
   ],
   "source": [
    "#Q7: how many applications are there in the Google sheet per WI county?\n",
    "dict(q7.to_dataframe().to_dict(orient = \"split\", index=False)[\"data\"])"
   ]
  },
  {
   "cell_type": "code",
   "execution_count": 17,
   "id": "9803f94b-0d4c-4f73-afb1-3a31a366597b",
   "metadata": {},
   "outputs": [],
   "source": [
    "import time\n",
    "condition = True\n",
    "while condition:\n",
    "    # if <your condition here>:  # Hint: use bq.list_models()\n",
    "    for model in bq.list_models(\"p8\"): # if empty for loop body wont execute(?)\n",
    "        condition = False\n",
    "    time.sleep(5)"
   ]
  },
  {
   "cell_type": "code",
   "execution_count": 18,
   "id": "a923aa67-d880-48f1-b513-8e3200fe08e9",
   "metadata": {},
   "outputs": [],
   "source": [
    "%load_ext google.cloud.bigquery"
   ]
  },
  {
   "cell_type": "code",
   "execution_count": 19,
   "id": "81be9b7a-64cf-4d72-aa84-06ef28c1eedf",
   "metadata": {},
   "outputs": [
    {
     "data": {
      "application/vnd.jupyter.widget-view+json": {
       "model_id": "1aa28a5c8a9444918213633071934154",
       "version_major": 2,
       "version_minor": 0
      },
      "text/plain": [
       "Query is running:   0%|          |"
      ]
     },
     "metadata": {},
     "output_type": "display_data"
    },
    {
     "data": {
      "text/html": [
       "<div>\n",
       "<style scoped>\n",
       "    .dataframe tbody tr th:only-of-type {\n",
       "        vertical-align: middle;\n",
       "    }\n",
       "\n",
       "    .dataframe tbody tr th {\n",
       "        vertical-align: top;\n",
       "    }\n",
       "\n",
       "    .dataframe thead th {\n",
       "        text-align: right;\n",
       "    }\n",
       "</style>\n",
       "<table border=\"1\" class=\"dataframe\">\n",
       "  <thead>\n",
       "    <tr style=\"text-align: right;\">\n",
       "      <th></th>\n",
       "    </tr>\n",
       "  </thead>\n",
       "  <tbody>\n",
       "  </tbody>\n",
       "</table>\n",
       "</div>"
      ],
      "text/plain": [
       "Empty DataFrame\n",
       "Columns: []\n",
       "Index: []"
      ]
     },
     "execution_count": 19,
     "metadata": {},
     "output_type": "execute_result"
    }
   ],
   "source": [
    "%%bigquery\n",
    "CREATE OR REPLACE MODEL `p8.lr`\n",
    "OPTIONS(model_type=\"LINEAR_REG\", INPUT_LABEL_COLS=[\"loan_amount\"])\n",
    "AS\n",
    "SELECT income, loan_term, loan_amount\n",
    "FROM `p8.hdma`"
   ]
  },
  {
   "cell_type": "code",
   "execution_count": 20,
   "id": "1071bb2e-cc39-4f81-b588-e2c615704bb7",
   "metadata": {},
   "outputs": [
    {
     "data": {
      "application/vnd.jupyter.widget-view+json": {
       "model_id": "432d2f236f0b43ff8e1f0a21b709cd17",
       "version_major": 2,
       "version_minor": 0
      },
      "text/plain": [
       "Query is running:   0%|          |"
      ]
     },
     "metadata": {},
     "output_type": "display_data"
    },
    {
     "data": {
      "application/vnd.jupyter.widget-view+json": {
       "model_id": "6966fb9c27a0413fb7542374d129736c",
       "version_major": 2,
       "version_minor": 0
      },
      "text/plain": [
       "Downloading:   0%|          |"
      ]
     },
     "metadata": {},
     "output_type": "display_data"
    }
   ],
   "source": [
    "%%bigquery df\n",
    "SELECT *\n",
    "FROM ML.EVALUATE(MODEL `p8.lr`, (\n",
    "    SELECT income, loan_term, loan_amount\n",
    "    FROM `p8.hdma`\n",
    "))"
   ]
  },
  {
   "cell_type": "code",
   "execution_count": 21,
   "id": "8af855ee-1533-4318-b6d4-1582eff44233",
   "metadata": {},
   "outputs": [
    {
     "data": {
      "text/plain": [
       "0.29165412288019577"
      ]
     },
     "execution_count": 21,
     "metadata": {},
     "output_type": "execute_result"
    }
   ],
   "source": [
    "#Q8: what is your model's r2_score on the HDMA dataset on which it was trained?\n",
    "df.at[0, \"r2_score\"]"
   ]
  },
  {
   "cell_type": "code",
   "execution_count": 22,
   "id": "56b8d8e6-9bcf-414a-a730-4f4879bae7f8",
   "metadata": {},
   "outputs": [
    {
     "data": {
      "application/vnd.jupyter.widget-view+json": {
       "model_id": "b8e99c3a63c5442f87e2e9f6eac16308",
       "version_major": 2,
       "version_minor": 0
      },
      "text/plain": [
       "Query is running:   0%|          |"
      ]
     },
     "metadata": {},
     "output_type": "display_data"
    },
    {
     "data": {
      "application/vnd.jupyter.widget-view+json": {
       "model_id": "0b5b585c3b50469fa710a247b38f1ceb",
       "version_major": 2,
       "version_minor": 0
      },
      "text/plain": [
       "Downloading:   0%|          |"
      ]
     },
     "metadata": {},
     "output_type": "display_data"
    }
   ],
   "source": [
    "%%bigquery df9\n",
    "SELECT *\n",
    "FROM ML.WEIGHTS(MODEL `p8.lr`)"
   ]
  },
  {
   "cell_type": "code",
   "execution_count": 23,
   "id": "37d99dd4-1cd3-4ffa-be9c-fbf131d1a8d7",
   "metadata": {},
   "outputs": [
    {
     "data": {
      "text/plain": [
       "0.8057773037176394"
      ]
     },
     "execution_count": 23,
     "metadata": {},
     "output_type": "execute_result"
    }
   ],
   "source": [
    "#Q9: what is the coefficient weight on the income column?\n",
    "df9.at[0, \"weight\"]"
   ]
  },
  {
   "cell_type": "code",
   "execution_count": 24,
   "id": "534f6740-38c0-4e0f-8ef0-c54b2f71e29e",
   "metadata": {},
   "outputs": [
    {
     "data": {
      "application/vnd.jupyter.widget-view+json": {
       "model_id": "0673066bc39d405bbcc129b5b00a6dfe",
       "version_major": 2,
       "version_minor": 0
      },
      "text/plain": [
       "Query is running:   0%|          |"
      ]
     },
     "metadata": {},
     "output_type": "display_data"
    },
    {
     "data": {
      "application/vnd.jupyter.widget-view+json": {
       "model_id": "0664ca65430744c18dd801c3cbcdc3cb",
       "version_major": 2,
       "version_minor": 0
      },
      "text/plain": [
       "Downloading:   0%|          |"
      ]
     },
     "metadata": {},
     "output_type": "display_data"
    }
   ],
   "source": [
    "%%bigquery df10\n",
    "SELECT *\n",
    "FROM ML.PREDICT(MODEL `p8.lr`, (\n",
    "    select loan_amount, income, 360 as loan_term\n",
    "    from p8.applications\n",
    "))"
   ]
  },
  {
   "cell_type": "code",
   "execution_count": 25,
   "id": "42494189-742c-42da-8fe3-ed75efc09e9a",
   "metadata": {},
   "outputs": [
    {
     "data": {
      "text/plain": [
       "0.4"
      ]
     },
     "execution_count": 25,
     "metadata": {},
     "output_type": "execute_result"
    }
   ],
   "source": [
    "#Q10: what ratio of the loan applications in the Google form are for amounts greater than the model would predict, given income?\n",
    "# (loan_amount > predicted_loan_amount)/num_loans\n",
    "count = 0\n",
    "for index, row in df10.iterrows():\n",
    "    if row[\"predicted_loan_amount\"] > row[\"loan_amount\"]:\n",
    "        count += 1\n",
    "\n",
    "count / len(df10)"
   ]
  }
 ],
 "metadata": {
  "kernelspec": {
   "display_name": "Python 3 (ipykernel)",
   "language": "python",
   "name": "python3"
  },
  "language_info": {
   "codemirror_mode": {
    "name": "ipython",
    "version": 3
   },
   "file_extension": ".py",
   "mimetype": "text/x-python",
   "name": "python",
   "nbconvert_exporter": "python",
   "pygments_lexer": "ipython3",
   "version": "3.10.12"
  }
 },
 "nbformat": 4,
 "nbformat_minor": 5
}
