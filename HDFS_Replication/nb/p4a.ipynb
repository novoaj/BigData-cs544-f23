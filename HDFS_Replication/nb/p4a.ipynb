{
 "cells": [
  {
   "cell_type": "code",
   "execution_count": 2,
   "id": "33e7350f-37ed-4323-94ba-230c6e613f90",
   "metadata": {},
   "outputs": [],
   "source": [
    "import requests\n",
    "import os.path # https://www.freecodecamp.org/news/how-to-check-if-a-file-exists-in-python/\n",
    "import pyarrow as pa\n",
    "import pyarrow.fs\n",
    "import io"
   ]
  },
  {
   "cell_type": "code",
   "execution_count": 3,
   "id": "9bc39df9-cb60-41c4-9ce0-84affb3207d2",
   "metadata": {},
   "outputs": [
    {
     "name": "stdout",
     "output_type": "stream",
     "text": [
      "Configured Capacity: 51642105856 (48.10 GB)\n",
      "Present Capacity: 29986103296 (27.93 GB)\n",
      "DFS Remaining: 29986054144 (27.93 GB)\n",
      "DFS Used: 49152 (48 KB)\n",
      "DFS Used%: 0.00%\n",
      "Replicated Blocks:\n",
      "\tUnder replicated blocks: 0\n",
      "\tBlocks with corrupt replicas: 0\n",
      "\tMissing blocks: 0\n",
      "\tMissing blocks (with replication factor 1): 0\n",
      "\tLow redundancy blocks with highest priority to recover: 0\n",
      "\tPending deletion blocks: 0\n",
      "Erasure Coded Block Groups: \n",
      "\tLow redundancy block groups: 0\n",
      "\tBlock groups with corrupt internal blocks: 0\n",
      "\tMissing block groups: 0\n",
      "\tLow redundancy blocks with highest priority to recover: 0\n",
      "\tPending deletion blocks: 0\n",
      "\n",
      "-------------------------------------------------\n",
      "Live datanodes (2):\n",
      "\n",
      "Name: 172.19.0.3:9866 (project-4-pandas4-dn-2.project-4-pandas4_default)\n",
      "Hostname: 8d0f909ee157\n",
      "Decommission Status : Normal\n",
      "Configured Capacity: 25821052928 (24.05 GB)\n",
      "DFS Used: 24576 (24 KB)\n",
      "Non DFS Used: 10811224064 (10.07 GB)\n",
      "DFS Remaining: 14993027072 (13.96 GB)\n",
      "DFS Used%: 0.00%\n",
      "DFS Remaining%: 58.07%\n",
      "Configured Cache Capacity: 0 (0 B)\n",
      "Cache Used: 0 (0 B)\n",
      "Cache Remaining: 0 (0 B)\n",
      "Cache Used%: 100.00%\n",
      "Cache Remaining%: 0.00%\n",
      "Xceivers: 0\n",
      "Last contact: Sun Oct 29 22:01:26 GMT 2023\n",
      "Last Block Report: Sun Oct 29 21:59:11 GMT 2023\n",
      "Num of Blocks: 0\n",
      "\n",
      "\n",
      "Name: 172.19.0.5:9866 (project-4-pandas4-dn-1.project-4-pandas4_default)\n",
      "Hostname: 7597f3c1938e\n",
      "Decommission Status : Normal\n",
      "Configured Capacity: 25821052928 (24.05 GB)\n",
      "DFS Used: 24576 (24 KB)\n",
      "Non DFS Used: 10811224064 (10.07 GB)\n",
      "DFS Remaining: 14993027072 (13.96 GB)\n",
      "DFS Used%: 0.00%\n",
      "DFS Remaining%: 58.07%\n",
      "Configured Cache Capacity: 0 (0 B)\n",
      "Cache Used: 0 (0 B)\n",
      "Cache Remaining: 0 (0 B)\n",
      "Cache Used%: 100.00%\n",
      "Cache Remaining%: 0.00%\n",
      "Xceivers: 0\n",
      "Last contact: Sun Oct 29 22:01:26 GMT 2023\n",
      "Last Block Report: Sun Oct 29 21:59:11 GMT 2023\n",
      "Num of Blocks: 0\n",
      "\n",
      "\n"
     ]
    }
   ],
   "source": [
    "#q1: how many live DataNodes are in the cluster?\n",
    "!hdfs dfsadmin -fs hdfs://boss:9000 -report"
   ]
  },
  {
   "cell_type": "code",
   "execution_count": 4,
   "id": "67f33277-2ab2-48a9-9647-973385ce818a",
   "metadata": {},
   "outputs": [],
   "source": [
    "#download data\n",
    "# !curl -i https://pages.cs.wisc.edu/~harter/cs544/data/hdma-wi-2021.csv\n",
    "path = \"./hdma-wi-2021.csv\"\n",
    "if not os.path.isfile(path): # the file doesn't exist in this directory, download it\n",
    "    url = \"https://pages.cs.wisc.edu/~harter/cs544/data/hdma-wi-2021.csv\"\n",
    "    r = requests.get(url, allow_redirects = True)\n",
    "    open(\"hdma-wi-2021.csv\", \"wb\").write(r.content)\n"
   ]
  },
  {
   "cell_type": "code",
   "execution_count": 5,
   "id": "2a3cb4c1-49c6-4216-9907-646f67410e43",
   "metadata": {},
   "outputs": [
    {
     "name": "stdout",
     "output_type": "stream",
     "text": [
      "rm: `hdfs://boss:9000/single.csv': No such file or directory\n",
      "rm: `hdfs://boss:9000/double.csv': No such file or directory\n"
     ]
    }
   ],
   "source": [
    "#run before cp commands\n",
    "!hdfs dfs -rm -r hdfs://boss:9000/single.csv\n",
    "!hdfs dfs -rm -r hdfs://boss:9000/double.csv"
   ]
  },
  {
   "cell_type": "code",
   "execution_count": 6,
   "id": "b58600a9-0d94-4541-972e-9a5d4697c8ee",
   "metadata": {},
   "outputs": [],
   "source": [
    "#copy data to directories\n",
    "!hdfs dfs -D dfs.block.size=1048576 -D dfs.replication=1 -cp hdma-wi-2021.csv hdfs://boss:9000/single.csv\n",
    "!hdfs dfs -D dfs.block.size=1048576 -D dfs.replication=2 -cp hdma-wi-2021.csv hdfs://boss:9000/double.csv"
   ]
  },
  {
   "cell_type": "code",
   "execution_count": 9,
   "id": "e0100459-ad0b-461d-83cc-e0ddd12aa67a",
   "metadata": {},
   "outputs": [
    {
     "name": "stdout",
     "output_type": "stream",
     "text": [
      "166.8 M  333.7 M  hdfs://boss:9000/double.csv\n",
      "166.8 M  166.8 M  hdfs://boss:9000/single.csv\n"
     ]
    }
   ],
   "source": [
    "#Q2: what are the logical and physical sizes of the CSV files?\n",
    "!hdfs dfs -du -h hdfs://boss:9000/double.csv\n",
    "!hdfs dfs -du -h hdfs://boss:9000/single.csv"
   ]
  },
  {
   "cell_type": "code",
   "execution_count": 7,
   "id": "737a627f-dd31-4dcf-879c-d6c42f5dafcc",
   "metadata": {},
   "outputs": [
    {
     "data": {
      "text/plain": [
       "{'FileStatus': {'accessTime': 1698614894966,\n",
       "  'blockSize': 1048576,\n",
       "  'childrenNum': 0,\n",
       "  'fileId': 16386,\n",
       "  'group': 'supergroup',\n",
       "  'length': 174944099,\n",
       "  'modificationTime': 1698614902446,\n",
       "  'owner': 'root',\n",
       "  'pathSuffix': '',\n",
       "  'permission': '644',\n",
       "  'replication': 1,\n",
       "  'storagePolicy': 0,\n",
       "  'type': 'FILE'}}"
      ]
     },
     "execution_count": 7,
     "metadata": {},
     "output_type": "execute_result"
    }
   ],
   "source": [
    "#Q3: what is the file status for single.csv?\n",
    "url = \"http://boss:9870/webhdfs/v1/single.csv?op=GETFILESTATUS\"\n",
    "r = requests.get(url)\n",
    "r.raise_for_status()\n",
    "file_status_single = r.json()\n",
    "file_status_single"
   ]
  },
  {
   "cell_type": "code",
   "execution_count": 8,
   "id": "9e98b745-0a80-429b-b7d6-70ef913dd3c4",
   "metadata": {},
   "outputs": [
    {
     "data": {
      "text/plain": [
       "'http://0e3fe0795835:9864/webhdfs/v1/single.csv?op=OPEN&namenoderpcaddress=boss:9000&offset=0'"
      ]
     },
     "execution_count": 8,
     "metadata": {},
     "output_type": "execute_result"
    }
   ],
   "source": [
    "#Q4: what is the location for the first block of single.csv\n",
    "url = \"http://boss:9870/webhdfs/v1/single.csv?op=OPEN&offset=0&noredirect=true\"\n",
    "r = requests.get(url)\n",
    "r.raise_for_status\n",
    "r.json()[\"Location\"]"
   ]
  },
  {
   "cell_type": "code",
   "execution_count": 9,
   "id": "2abbc1e0-664c-453d-84a9-4c7908eb184f",
   "metadata": {},
   "outputs": [
    {
     "data": {
      "text/plain": [
       "{'0e3fe0795835': 90, '7148d45c935e': 77}"
      ]
     },
     "execution_count": 9,
     "metadata": {},
     "output_type": "execute_result"
    }
   ],
   "source": [
    "#Q5: how are the blocks of single.csv distributed across the two DataNode containers?\n",
    "blockSize = file_status_single[\"FileStatus\"][\"blockSize\"]\n",
    "length = file_status_single[\"FileStatus\"][\"length\"]\n",
    "location_occurrences = {} \n",
    "# offest is starting byte position (offset = 0 is 0th byte of file)\n",
    "# length in the context of GET request is number of bytes to be processed (undefined means whole file)\n",
    "# num_block = length//blockSize + 1  # number of blocks\n",
    "idx = 0 # starting block, inc by \"blockSize\" until idx > length\n",
    "while idx < length:\n",
    "    # each idx is  the starting point of a new block\n",
    "    url = f\"http://boss:9870/webhdfs/v1/single.csv?op=OPEN&offset={idx}&noredirect=true&length=100\"\n",
    "    r = requests.get(url)\n",
    "    r.raise_for_status\n",
    "    location = r.json()[\"Location\"][7:19]\n",
    "    if not location in location_occurrences:\n",
    "        location_occurrences[location] = 0\n",
    "    location_occurrences[location] += 1\n",
    "    idx += blockSize\n",
    "location_occurrences"
   ]
  },
  {
   "cell_type": "code",
   "execution_count": 10,
   "id": "88eba60d-4256-4ef0-beee-3768dc0d155f",
   "metadata": {},
   "outputs": [
    {
     "name": "stderr",
     "output_type": "stream",
     "text": [
      "2023-10-29 21:28:47,596 WARN util.NativeCodeLoader: Unable to load native-hadoop library for your platform... using builtin-java classes where applicable\n"
     ]
    },
    {
     "data": {
      "text/plain": [
       "b'activity_y'"
      ]
     },
     "execution_count": 10,
     "metadata": {},
     "output_type": "execute_result"
    }
   ],
   "source": [
    "#Q6: what are the first 10 bytes of single.csv?\n",
    "hdfs = pa.fs.HadoopFileSystem(\"boss\", 9000)\n",
    "first_10_bytes = None\n",
    "with hdfs.open_input_file(\"/single.csv\") as f:\n",
    "    first_10_bytes = f.read_at(10,0)\n",
    "first_10_bytes"
   ]
  },
  {
   "cell_type": "code",
   "execution_count": 11,
   "id": "50f3da3d-0a19-4dd4-8955-8f9f2b206e13",
   "metadata": {},
   "outputs": [
    {
     "data": {
      "text/plain": [
       "444874"
      ]
     },
     "execution_count": 11,
     "metadata": {},
     "output_type": "execute_result"
    }
   ],
   "source": [
    "#Q7: how many lines of single.csv contain the string \"Single Family\"?\n",
    "count = 0\n",
    "\n",
    "with hdfs.open_input_file(\"/single.csv\") as f:\n",
    "    reader = io.TextIOWrapper(io.BufferedReader(f))\n",
    "    for line in reader:\n",
    "        if \"Single Family\" in line: count += 1\n",
    "count            "
   ]
  },
  {
   "cell_type": "code",
   "execution_count": null,
   "id": "a9b33a68-c663-4386-ba4d-ed6f5db03956",
   "metadata": {},
   "outputs": [],
   "source": []
  }
 ],
 "metadata": {
  "kernelspec": {
   "display_name": "Python 3 (ipykernel)",
   "language": "python",
   "name": "python3"
  },
  "language_info": {
   "codemirror_mode": {
    "name": "ipython",
    "version": 3
   },
   "file_extension": ".py",
   "mimetype": "text/x-python",
   "name": "python",
   "nbconvert_exporter": "python",
   "pygments_lexer": "ipython3",
   "version": "3.10.12"
  }
 },
 "nbformat": 4,
 "nbformat_minor": 5
}
