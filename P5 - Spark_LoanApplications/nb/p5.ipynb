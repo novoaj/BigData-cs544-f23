{
 "cells": [
  {
   "cell_type": "code",
   "execution_count": 1,
   "id": "0a83bd76-0cfe-48ec-8255-76ff0938845c",
   "metadata": {},
   "outputs": [],
   "source": [
    "# Jared Novoa\n",
    "from pyspark.sql import SparkSession\n",
    "from pyspark.sql import functions\n",
    "from pyspark.sql.functions import col, when\n",
    "import matplotlib.pyplot as plt"
   ]
  },
  {
   "cell_type": "code",
   "execution_count": 2,
   "id": "90218649-40bf-4a87-aed2-3deb0caab7c9",
   "metadata": {},
   "outputs": [],
   "source": [
    "!hdfs dfs -D dfs.replication=1 -cp -f data/*.csv hdfs://nn:9000/ # get all data to our HDFS"
   ]
  },
  {
   "cell_type": "code",
   "execution_count": 3,
   "id": "d04f62dd-14b7-43a9-bdc4-558e0b3e07d1",
   "metadata": {},
   "outputs": [
    {
     "name": "stderr",
     "output_type": "stream",
     "text": [
      "Setting default log level to \"WARN\".\n",
      "To adjust logging level use sc.setLogLevel(newLevel). For SparkR, use setLogLevel(newLevel).\n",
      "23/11/11 05:18:50 WARN NativeCodeLoader: Unable to load native-hadoop library for your platform... using builtin-java classes where applicable\n"
     ]
    }
   ],
   "source": [
    "spark = (SparkSession.builder.appName(\"cs544\")\n",
    "         .master(\"spark://boss:7077\")\n",
    "         .config(\"spark.executor.memory\", \"512M\")\n",
    "         .config(\"spark.sql.warehouse.dir\", \"hdfs://nn:9000/user/hive/warehouse\")\n",
    "         .enableHiveSupport()\n",
    "         .getOrCreate())"
   ]
  },
  {
   "cell_type": "code",
   "execution_count": 4,
   "id": "a49b347b-fff1-42ab-bf47-5f9dbf7e38e2",
   "metadata": {},
   "outputs": [
    {
     "name": "stderr",
     "output_type": "stream",
     "text": [
      "                                                                                \r"
     ]
    },
    {
     "data": {
      "text/plain": [
       "525"
      ]
     },
     "execution_count": 4,
     "metadata": {},
     "output_type": "execute_result"
    }
   ],
   "source": [
    "#Q1 how many banks contain the word \"first\" in their name, ignoring case? Use an RDD to answer\n",
    "banks_df = (spark.read\n",
    "    .option(\"header\", True)\n",
    "    .option(\"inferSchema\", True)\n",
    "    .csv(\"hdfs://nn:9000/arid2017_to_lei_xref_csv.csv\"))\n",
    "banks_df.rdd.filter(lambda row : \"first\" in row[\"respondent_name\"].lower() ).count()\n"
   ]
  },
  {
   "cell_type": "code",
   "execution_count": 5,
   "id": "d24295be-a407-4ff4-9afb-92ce8f0b4eca",
   "metadata": {},
   "outputs": [
    {
     "name": "stderr",
     "output_type": "stream",
     "text": [
      "                                                                                \r"
     ]
    },
    {
     "data": {
      "text/plain": [
       "525"
      ]
     },
     "execution_count": 5,
     "metadata": {},
     "output_type": "execute_result"
    }
   ],
   "source": [
    "#Q2 how many banks contain the word \"first\" in their name, ignoring case? Use a DataFrame to answer.\n",
    "banks_df.filter(\"\"\"\n",
    "LOWER(respondent_name) LIKE \"%first%\"    \n",
    "\"\"\").count()"
   ]
  },
  {
   "cell_type": "code",
   "execution_count": 6,
   "id": "8755659d-50e9-4b28-bca2-0f139d5da066",
   "metadata": {},
   "outputs": [
    {
     "name": "stderr",
     "output_type": "stream",
     "text": [
      "23/11/11 05:19:29 WARN HiveConf: HiveConf of name hive.stats.jdbc.timeout does not exist\n",
      "23/11/11 05:19:29 WARN HiveConf: HiveConf of name hive.stats.retries.wait does not exist\n",
      "23/11/11 05:19:33 WARN ObjectStore: Version information not found in metastore. hive.metastore.schema.verification is not enabled so recording the schema version 2.3.0\n",
      "23/11/11 05:19:33 WARN ObjectStore: setMetaStoreSchemaVersion called but recording version is disabled: version = 2.3.0, comment = Set by MetaStore UNKNOWN@172.19.0.4\n",
      "23/11/11 05:19:34 WARN ObjectStore: Failed to get database global_temp, returning NoSuchObjectException\n",
      "23/11/11 05:19:39 WARN SessionState: METASTORE_FILTER_HOOK will be ignored, since hive.security.authorization.manager is set to instance of HiveAuthorizerFactory.\n",
      "23/11/11 05:19:39 WARN HiveConf: HiveConf of name hive.internal.ss.authz.settings.applied.marker does not exist\n",
      "23/11/11 05:19:39 WARN HiveConf: HiveConf of name hive.stats.jdbc.timeout does not exist\n",
      "23/11/11 05:19:39 WARN HiveConf: HiveConf of name hive.stats.retries.wait does not exist\n"
     ]
    }
   ],
   "source": [
    "banks_df.write.saveAsTable(\"banks\", mode=\"overwrite\")"
   ]
  },
  {
   "cell_type": "code",
   "execution_count": 7,
   "id": "f79119c1-addf-4902-b5e1-9bc9d3656330",
   "metadata": {},
   "outputs": [
    {
     "name": "stderr",
     "output_type": "stream",
     "text": [
      "                                                                                \r"
     ]
    },
    {
     "data": {
      "text/plain": [
       "525"
      ]
     },
     "execution_count": 7,
     "metadata": {},
     "output_type": "execute_result"
    }
   ],
   "source": [
    "#Q3: how many banks contain the word \"first\" in their name, ignoring case? Use Spark SQL to answer\n",
    "spark.sql(\"\"\"\n",
    "    SELECT *\n",
    "    FROM banks\n",
    "    WHERE LOWER(respondent_name) LIKE \"%first%\"\n",
    "\"\"\").count()"
   ]
  },
  {
   "cell_type": "code",
   "execution_count": 8,
   "id": "3521600a-86a3-4aa8-a142-7ee111888671",
   "metadata": {},
   "outputs": [
    {
     "name": "stderr",
     "output_type": "stream",
     "text": [
      "23/11/11 05:19:54 WARN SparkStringUtils: Truncated the string representation of a plan since it was too large. This behavior can be adjusted by setting 'spark.sql.debug.maxToStringFields'.\n",
      "                                                                                \r"
     ]
    }
   ],
   "source": [
    "loans_df = (spark.read\n",
    "    .option(\"header\", True)\n",
    "    .option(\"inferSchema\", True)\n",
    "    .csv(\"hdfs://nn:9000/hdma-wi-2021.csv\"))\n",
    "loans_df.write.bucketBy(8, \"county_code\").saveAsTable(\"loans\", mode = \"overwrite\")"
   ]
  },
  {
   "cell_type": "code",
   "execution_count": 9,
   "id": "0c484808-965e-48bb-a62c-eb94206ab8de",
   "metadata": {},
   "outputs": [
    {
     "name": "stderr",
     "output_type": "stream",
     "text": [
      "                                                                                \r"
     ]
    }
   ],
   "source": [
    "tables_to_make = [\"ethnicity\", \"race\", \"sex\", \"states\", \"counties\", \"tracts\", \"action_taken\",\n",
    " \"denial_reason\", \"loan_type\", \"loan_purpose\", \"preapproval\", \"property_type\"]\n",
    "for table in tables_to_make:\n",
    "    (spark.read\n",
    "     .format(\"csv\")\n",
    "     .option(\"header\", True)\n",
    "     .option(\"inferSchema\", True)\n",
    "     .load(f\"hdfs://nn:9000/{table}.csv\")\n",
    "     .createOrReplaceTempView(table)\n",
    "    )"
   ]
  },
  {
   "cell_type": "code",
   "execution_count": 10,
   "id": "c88bb2ab-a3b2-402d-9a0e-8c281d911d18",
   "metadata": {},
   "outputs": [
    {
     "name": "stderr",
     "output_type": "stream",
     "text": [
      "                                                                                \r"
     ]
    },
    {
     "data": {
      "text/plain": [
       "{'banks': False,\n",
       " 'loans': False,\n",
       " 'action_taken': True,\n",
       " 'counties': True,\n",
       " 'denial_reason': True,\n",
       " 'ethnicity': True,\n",
       " 'loan_purpose': True,\n",
       " 'loan_type': True,\n",
       " 'preapproval': True,\n",
       " 'property_type': True,\n",
       " 'race': True,\n",
       " 'sex': True,\n",
       " 'states': True,\n",
       " 'tracts': True}"
      ]
     },
     "execution_count": 10,
     "metadata": {},
     "output_type": "execute_result"
    }
   ],
   "source": [
    "#Q4: what tables are in our warehouse?\n",
    "# https://stackoverflow.com/questions/68968116/pyspark-df-to-dict-one-column-as-key-the-other-as-value\n",
    "row_dict = spark.sql(\"SHOW TABLES\").rdd.map(lambda row: row.asDict()).collect()\n",
    "table_bool_dict = {d[\"tableName\"]: d[\"isTemporary\"] for d in row_dict}\n",
    "table_bool_dict"
   ]
  },
  {
   "cell_type": "code",
   "execution_count": 11,
   "id": "c5ecad74-b185-4d0c-aa61-f0f94b1d1b13",
   "metadata": {},
   "outputs": [
    {
     "name": "stderr",
     "output_type": "stream",
     "text": [
      "                                                                                \r"
     ]
    },
    {
     "data": {
      "text/plain": [
       "19739"
      ]
     },
     "execution_count": 11,
     "metadata": {},
     "output_type": "execute_result"
    }
   ],
   "source": [
    "#Q5: how many loan applications has the bank \"University of Wisconsin Credit Union\" received in 2020 in this dataset?\n",
    "spark.sql(\"\"\"\n",
    "    SELECT loans.lei, banks.respondent_name AS name\n",
    "    FROM loans\n",
    "    INNER JOIN banks\n",
    "    ON loans.lei = banks.lei_2020\n",
    "\"\"\").where(\"name == 'University of Wisconsin Credit Union'\").count()"
   ]
  },
  {
   "cell_type": "code",
   "execution_count": 12,
   "id": "4d99d7bd-1e05-479a-85c4-8dbfb69c86ac",
   "metadata": {},
   "outputs": [
    {
     "name": "stdout",
     "output_type": "stream",
     "text": [
      "== Physical Plan ==\n",
      "AdaptiveSparkPlan (8)\n",
      "+- Project (7)\n",
      "   +- BroadcastHashJoin Inner BuildRight (6)\n",
      "      :- Filter (2)\n",
      "      :  +- Scan parquet spark_catalog.default.loans (1)\n",
      "      +- BroadcastExchange (5)\n",
      "         +- Filter (4)\n",
      "            +- Scan parquet spark_catalog.default.banks (3)\n",
      "\n",
      "\n",
      "(1) Scan parquet spark_catalog.default.loans\n",
      "Output [1]: [lei#998]\n",
      "Batched: true\n",
      "Bucketed: false (bucket column(s) not read)\n",
      "Location: InMemoryFileIndex [hdfs://nn:9000/user/hive/warehouse/loans]\n",
      "PushedFilters: [IsNotNull(lei)]\n",
      "ReadSchema: struct<lei:string>\n",
      "\n",
      "(2) Filter\n",
      "Input [1]: [lei#998]\n",
      "Condition : isnotnull(lei#998)\n",
      "\n",
      "(3) Scan parquet spark_catalog.default.banks\n",
      "Output [2]: [respondent_name#64, lei_2020#68]\n",
      "Batched: true\n",
      "Location: InMemoryFileIndex [hdfs://nn:9000/user/hive/warehouse/banks]\n",
      "PushedFilters: [IsNotNull(respondent_name), EqualTo(respondent_name,University of Wisconsin Credit Union), IsNotNull(lei_2020)]\n",
      "ReadSchema: struct<respondent_name:string,lei_2020:string>\n",
      "\n",
      "(4) Filter\n",
      "Input [2]: [respondent_name#64, lei_2020#68]\n",
      "Condition : ((isnotnull(respondent_name#64) AND (respondent_name#64 = University of Wisconsin Credit Union)) AND isnotnull(lei_2020#68))\n",
      "\n",
      "(5) BroadcastExchange\n",
      "Input [2]: [respondent_name#64, lei_2020#68]\n",
      "Arguments: HashedRelationBroadcastMode(List(input[1, string, false]),false), [plan_id=614]\n",
      "\n",
      "(6) BroadcastHashJoin\n",
      "Left keys [1]: [lei#998]\n",
      "Right keys [1]: [lei_2020#68]\n",
      "Join type: Inner\n",
      "Join condition: None\n",
      "\n",
      "(7) Project\n",
      "Output [2]: [lei#998, respondent_name#64 AS name#1106]\n",
      "Input [3]: [lei#998, respondent_name#64, lei_2020#68]\n",
      "\n",
      "(8) AdaptiveSparkPlan\n",
      "Output [2]: [lei#998, name#1106]\n",
      "Arguments: isFinalPlan=false\n",
      "\n",
      "\n"
     ]
    }
   ],
   "source": [
    "#Q6: What does .explain(\"formatted\") tell us about how spark executes Q5?\n",
    "spark.sql(\"\"\"\n",
    "    SELECT loans.lei, banks.respondent_name AS name\n",
    "    FROM loans\n",
    "    INNER JOIN banks\n",
    "    ON loans.lei = banks.lei_2020\n",
    "\"\"\").where(\"name == 'University of Wisconsin Credit Union'\").explain(\"formatted\")\n",
    "\n",
    "# Here, the banks data is going through the BroadcastExchange step. This would suggest\n",
    "# that the banks table is smaller than the loans table as Spark is sending it to all\n",
    "# executor nodes. The plan does not involve HashAggregates. The innerjoin causes a\n",
    "# BroadcastHashJoin because the worker nodes need to compare the lei from different\n",
    "# tables in this query. "
   ]
  },
  {
   "cell_type": "code",
   "execution_count": 13,
   "id": "bfb08aae-ba3f-484f-a597-55698490bc53",
   "metadata": {},
   "outputs": [
    {
     "name": "stderr",
     "output_type": "stream",
     "text": [
      "                                                                                \r"
     ]
    },
    {
     "data": {
      "text/plain": [
       "{'Milwaukee': 3.1173465727097907,\n",
       " 'Waukesha': 2.8758225602027756,\n",
       " 'Washington': 2.851009389671362,\n",
       " 'Dane': 2.890674955595027,\n",
       " 'Brown': 3.010949119373777,\n",
       " 'Racine': 3.099783715012723,\n",
       " 'Outagamie': 2.979661835748792,\n",
       " 'Winnebago': 3.0284761904761908,\n",
       " 'Ozaukee': 2.8673765432098772,\n",
       " 'Sheboygan': 2.995511111111111}"
      ]
     },
     "execution_count": 13,
     "metadata": {},
     "output_type": "execute_result"
    }
   ],
   "source": [
    "#Q7 What are the average interest rates for Wells Fargo applications for the ten counties where Wells Fargo receives the most applications\n",
    "county_average_df = spark.sql(\"\"\"\n",
    "    SELECT \n",
    "        loans.county_code,\n",
    "        counties.NAME,\n",
    "        COUNT(*) AS loan_count,\n",
    "        AVG(loans.interest_rate) AS average_interest_rate \n",
    "    FROM loans\n",
    "    INNER JOIN counties\n",
    "    ON loans.county_code = counties.STATE*1000 + counties.COUNTY\n",
    "    INNER JOIN banks\n",
    "    ON loans.lei = banks.lei_2020\n",
    "    WHERE LOWER(banks.respondent_name) LIKE \"%wells fargo%\"\n",
    "    GROUP BY counties.NAME, loans.county_code\n",
    "    \"\"\")\n",
    "top_10_counties = county_average_df.rdd.sortBy(lambda x:x[2], ascending=False).map(lambda row: row.asDict()).take(10)\n",
    "county_interest_rate_dict = {d[\"NAME\"]: d[\"average_interest_rate\"] for d in top_10_counties}\n",
    "county_interest_rate_dict"
   ]
  },
  {
   "cell_type": "code",
   "execution_count": 14,
   "id": "aef468ef-d113-42b4-b2f0-127f40adb170",
   "metadata": {},
   "outputs": [
    {
     "data": {
      "text/plain": [
       "<BarContainer object of 10 artists>"
      ]
     },
     "execution_count": 14,
     "metadata": {},
     "output_type": "execute_result"
    },
    {
     "data": {
      "image/png": "[encoded data removed]",
      "text/plain": [
       "<Figure size 640x480 with 1 Axes>"
      ]
     },
     "metadata": {},
     "output_type": "display_data"
    }
   ],
   "source": [
    "plt.bar(list(county_interest_rate_dict.keys()), list(county_interest_rate_dict.values()), width = 0.5)"
   ]
  },
  {
   "cell_type": "code",
   "execution_count": 15,
   "id": "8bd8a5dd-7710-4ebd-8822-0c7bba34410f",
   "metadata": {},
   "outputs": [],
   "source": [
    "#Q8: when computing a MEAN aggregate per group of loans, under what situation (when) do we require network I/O between the partial_mean and mean operations?\n",
    "# spark.sql(\"\"\"\n",
    "#     SELECT \n",
    "#         COUNT(DISTINCT derived_dwelling_category) as living_categories,\n",
    "#         county_code\n",
    "#     FROM loans\n",
    "#     GROUP BY county_code\n",
    "#     LIMIT 10\n",
    "# \"\"\").explain(\"formatted\")\n",
    "\n",
    "# spark.sql(\"\"\"\n",
    "#     SELECT \n",
    "#         COUNT(DISTINCT county_code),\n",
    "#         derived_dwelling_category as living_categories\n",
    "#     FROM loans\n",
    "#     GROUP BY living_categories\n",
    "# \"\"\").explain(\"formatted\")\n",
    "\n",
    "# here, the second query requires some network trasnfer. The first doesn't require it because we are grouping by county_code. When\n",
    "# we loaded the data into our warehouse, we specified to bucket by county_code. this helps us optimize queries when we are grouping by \n",
    "# county code because similar counties are bucketed together, meaning less network I/O is needed when doing a group by on county_code"
   ]
  },
  {
   "cell_type": "code",
   "execution_count": 16,
   "id": "b4e9a930-0d7c-46e7-87ad-17b15cd1e35f",
   "metadata": {},
   "outputs": [
    {
     "data": {
      "text/plain": [
       "DataFrame[loan_amount: double, income: double, interest_rate: double, approval: double]"
      ]
     },
     "execution_count": 16,
     "metadata": {},
     "output_type": "execute_result"
    }
   ],
   "source": [
    "df = spark.sql(\"\"\"\n",
    "    SELECT loan_amount, income, interest_rate, action_taken as approval\n",
    "    FROM loans\n",
    "\"\"\")\n",
    "# action_taken is 1 if approved -> we want to encode 1 to be a 1 and any other number to be a 0 for rejected\n",
    "# also want to cast loan_amount, income, and interest_rate to a double\n",
    "# https://sparkbyexamples.com/spark/spark-case-when-otherwise-example/\n",
    "# https://sparkbyexamples.com/pyspark/pyspark-convert-string-type-to-double-type-float-type/\n",
    "df = df.withColumn(\"approval\", when(col(\"approval\")==1,1.0).otherwise(0.0)).withColumn(\"loan_amount\", col(\"loan_amount\").cast(\"double\")).withColumn(\"income\", col(\"income\").cast(\"double\")).withColumn(\"interest_rate\", col(\"interest_rate\").cast(\"double\")).fillna(0.0)  \n",
    "# deterministic split\n",
    "train, test = df.randomSplit([0.8, 0.2], seed=41) \n",
    "train.persist()"
   ]
  },
  {
   "cell_type": "code",
   "execution_count": 17,
   "id": "742f8a05-ce36-4144-ab9d-eb44f99e97da",
   "metadata": {},
   "outputs": [
    {
     "name": "stderr",
     "output_type": "stream",
     "text": [
      "                                                                                \r"
     ]
    },
    {
     "data": {
      "text/plain": [
       "242868"
      ]
     },
     "execution_count": 17,
     "metadata": {},
     "output_type": "execute_result"
    }
   ],
   "source": [
    "#Q9: How many loans are approved (approval = 1) in the train DataFrame?\n",
    "train.filter(col(\"approval\") == 1).count()"
   ]
  },
  {
   "cell_type": "code",
   "execution_count": 18,
   "id": "57b13062-1417-4dae-8c2c-7346b5220ac0",
   "metadata": {},
   "outputs": [],
   "source": [
    "from pyspark.ml.feature import VectorAssembler\n",
    "from pyspark.ml.classification import DecisionTreeClassifier\n",
    "from pyspark.ml.pipeline import Pipeline, PipelineModel\n"
   ]
  },
  {
   "cell_type": "code",
   "execution_count": 19,
   "id": "02da717c-49c1-42be-9442-999f870bf55c",
   "metadata": {},
   "outputs": [
    {
     "name": "stderr",
     "output_type": "stream",
     "text": [
      "                                                                                \r"
     ]
    },
    {
     "data": {
      "text/plain": [
       "0.8940103963757389"
      ]
     },
     "execution_count": 19,
     "metadata": {},
     "output_type": "execute_result"
    }
   ],
   "source": [
    "#Q10: What is the accuracy of the decision tree classifier of depth 5 on the test dataset?\n",
    "va = VectorAssembler(inputCols=[\"loan_amount\", \"income\", \"interest_rate\"], outputCol=\"features\")\n",
    "dt = DecisionTreeClassifier(featuresCol=\"features\", labelCol=\"approval\", maxDepth=5)\n",
    "\n",
    "pipeline = Pipeline(stages=[va, dt])\n",
    "\n",
    "model = pipeline.fit(train)\n",
    "\n",
    "predictions = model.transform(test)\n",
    "# predictions.printSchema()\n",
    "accuracy = predictions.filter(predictions[\"approval\"] == predictions[\"prediction\"]).count() / predictions.count()\n",
    "accuracy"
   ]
  }
 ],
 "metadata": {
  "kernelspec": {
   "display_name": "Python 3 (ipykernel)",
   "language": "python",
   "name": "python3"
  },
  "language_info": {
   "codemirror_mode": {
    "name": "ipython",
    "version": 3
   },
   "file_extension": ".py",
   "mimetype": "text/x-python",
   "name": "python",
   "nbconvert_exporter": "python",
   "pygments_lexer": "ipython3",
   "version": "3.10.12"
  }
 },
 "nbformat": 4,
 "nbformat_minor": 5
}
