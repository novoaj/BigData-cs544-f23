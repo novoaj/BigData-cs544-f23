{
 "cells": [
  {
   "cell_type": "code",
   "execution_count": 1,
   "id": "9bb568a2-ead3-4318-ab0e-dd6cf194107c",
   "metadata": {},
   "outputs": [],
   "source": [
    "# partners: Victoria Peryniak and Jared Novoa\n",
    "# pytorch math functions reference: https://pytorch.org/docs/stable/torch.html"
   ]
  },
  {
   "cell_type": "code",
   "execution_count": 2,
   "id": "9384ef10-7a28-4570-993e-aed9b829de91",
   "metadata": {},
   "outputs": [],
   "source": [
    "import torch\n",
    "import pandas as pd\n",
    "import numpy"
   ]
  },
  {
   "cell_type": "code",
   "execution_count": 3,
   "id": "73cd3cb4-1494-4bbe-b4c1-5eb898d3fcce",
   "metadata": {},
   "outputs": [],
   "source": [
    "#PART 1\n",
    "test_df = pd.read_csv(\"test.csv\")\n",
    "train_df = pd.read_csv(\"train.csv\")"
   ]
  },
  {
   "cell_type": "code",
   "execution_count": 4,
   "id": "213459f8-a009-4bbe-9a04-099fb6a8803b",
   "metadata": {},
   "outputs": [],
   "source": [
    "# create trainX and trainY, testX and testY\n",
    "# the last column in the dataframes are the Y, every other column are the X\n",
    "trainX = torch.from_numpy(train_df.iloc[:, 0:-1].values).to(torch.float64)\n",
    "trainY = torch.from_numpy(train_df.iloc[:, [-1]].values).to(torch.float64)\n",
    "testX = torch.from_numpy(test_df.iloc[:, 0:-1].values).to(torch.float64)\n",
    "testY = torch.from_numpy(test_df.iloc[:, [-1]].values).to(torch.float64)"
   ]
  },
  {
   "cell_type": "code",
   "execution_count": 5,
   "id": "284af4c7-f8ac-41f6-a4ad-79733cc6a626",
   "metadata": {},
   "outputs": [
    {
     "data": {
      "text/plain": [
       "83520"
      ]
     },
     "execution_count": 5,
     "metadata": {},
     "output_type": "execute_result"
    }
   ],
   "source": [
    "#Q1: about how many bytes does trainX consume?\n",
    "trainX.nelement()*trainX.element_size()"
   ]
  },
  {
   "cell_type": "code",
   "execution_count": 6,
   "id": "679436ff-3e0e-41e3-a814-170bdcd0c78c",
   "metadata": {},
   "outputs": [
    {
     "data": {
      "text/plain": [
       "0.0"
      ]
     },
     "execution_count": 6,
     "metadata": {},
     "output_type": "execute_result"
    }
   ],
   "source": [
    "#Q2: what is the biggest difference we would have any one cell if we used float16 instead of float64?\n",
    "trainX_16 = trainX.to(torch.float16)\n",
    "trainX_64 = trainX_16.to(torch.float64)\n",
    "# https://www.tutorialspoint.com/how-to-perform-element-wise-subtraction-on-tensors-in-pytorch\n",
    "float(torch.max(torch.sub(trainX_64,trainX))) # param1 - param2"
   ]
  },
  {
   "cell_type": "code",
   "execution_count": 7,
   "id": "25fcca7c-8931-4980-9e07-74b8c954b660",
   "metadata": {},
   "outputs": [
    {
     "data": {
      "text/plain": [
       "False"
      ]
     },
     "execution_count": 7,
     "metadata": {},
     "output_type": "execute_result"
    }
   ],
   "source": [
    "#Q3: is a CUDA GPU available on your VM?\n",
    "torch.cuda.is_available()"
   ]
  },
  {
   "cell_type": "code",
   "execution_count": 8,
   "id": "cf3fc43a-4e93-4f89-9798-9a44e9310ead",
   "metadata": {},
   "outputs": [],
   "source": [
    "#PART 2\n",
    "coef = torch.tensor([\n",
    "        [0.0040],\n",
    "        [0.0040],\n",
    "        [0.0040],\n",
    "        [0.0040],\n",
    "        [0.0040],\n",
    "        [0.0040], # POS_50_59_CP\n",
    "        [0.0300], # POS_60_69_CP\n",
    "        [0.0300],\n",
    "        [0.0300],\n",
    "        [0.0300]\n",
    "], dtype=trainX.dtype)"
   ]
  },
  {
   "cell_type": "code",
   "execution_count": 9,
   "id": "d192e8fb-d8b9-4a5f-8d11-d9b3fd11dd04",
   "metadata": {},
   "outputs": [
    {
     "data": {
      "text/plain": [
       "9.844"
      ]
     },
     "execution_count": 9,
     "metadata": {},
     "output_type": "execute_result"
    }
   ],
   "source": [
    "#Q4: what is the predicted number of deaths for the first census tract?\n",
    "(testX[0] @ coef).item()"
   ]
  },
  {
   "cell_type": "code",
   "execution_count": 10,
   "id": "08339a22-508e-4b76-a1ba-fc548cfe836a",
   "metadata": {},
   "outputs": [
    {
     "data": {
      "text/plain": [
       "12.073632183908048"
      ]
     },
     "execution_count": 10,
     "metadata": {},
     "output_type": "execute_result"
    }
   ],
   "source": [
    "#Q5: what is the average number of predicted deaths, over the whole testX dataset?\n",
    "torch.mean(testX @ coef).item()"
   ]
  },
  {
   "cell_type": "code",
   "execution_count": 11,
   "id": "ba59ab3d-020d-4472-9fc8-a78278559338",
   "metadata": {},
   "outputs": [
    {
     "data": {
      "text/plain": [
       "19.0"
      ]
     },
     "execution_count": 11,
     "metadata": {},
     "output_type": "execute_result"
    }
   ],
   "source": [
    "#Q6: first, what is y when x is a tensor containing 0.0?\n",
    "def f(x):\n",
    "    return (x**2) - (8*x) + 19\n",
    "\n",
    "x = torch.tensor(0.0, requires_grad=True)\n",
    "y = f(x)\n",
    "float(y)"
   ]
  },
  {
   "cell_type": "code",
   "execution_count": 12,
   "id": "eec9bd86-b12b-4b15-800f-4957175ac65b",
   "metadata": {},
   "outputs": [
    {
     "data": {
      "text/plain": [
       "3.999999523162842"
      ]
     },
     "execution_count": 12,
     "metadata": {},
     "output_type": "execute_result"
    }
   ],
   "source": [
    "#Q7: what x value minimizes y?\n",
    "optimizer = torch.optim.SGD([x], lr=0.1)\n",
    "\n",
    "for epoch in range(1000):\n",
    "    y = f(x)\n",
    "    y.backward()\n",
    "    optimizer.step()\n",
    "    optimizer.zero_grad()\n",
    "x.item() "
   ]
  },
  {
   "cell_type": "code",
   "execution_count": 13,
   "id": "d74226dd-e4e0-4fa8-8a66-ffb47e363b24",
   "metadata": {},
   "outputs": [],
   "source": [
    "#Part 4\n",
    "coef = torch.zeros(10,1, dtype=torch.float64, requires_grad=True)"
   ]
  },
  {
   "cell_type": "code",
   "execution_count": 14,
   "id": "8f57fb8f-ba12-4d88-8835-7a821acf9200",
   "metadata": {},
   "outputs": [
    {
     "data": {
      "text/plain": [
       "197.8007662835249"
      ]
     },
     "execution_count": 14,
     "metadata": {},
     "output_type": "execute_result"
    }
   ],
   "source": [
    "#Q8: what is the MSE (mean-square error) when we make predictions using this vector of zero coefficients?\n",
    "#MSE formula found from: https://www.geeksforgeeks.org/python-mean-squared-error/\n",
    "torch.mean(torch.square(torch.sub((trainX @ coef), trainY))).item()"
   ]
  },
  {
   "cell_type": "code",
   "execution_count": 15,
   "id": "fcfb0186-2886-4947-b230-706626432272",
   "metadata": {},
   "outputs": [],
   "source": [
    "#Part 4, Optimization\n",
    "torch.manual_seed(544)\n",
    "\n",
    "optimizer = torch.optim.SGD([coef], lr = 0.000002)\n",
    "loss_func = torch.nn.MSELoss()\n",
    "\n",
    "ds = torch.utils.data.TensorDataset(trainX, trainY) # dataset made up of trainx and trainy\n",
    "dl = torch.utils.data.DataLoader(ds, batch_size=50, shuffle=True) # splits dataset into batches and shuffles the data \n",
    "\n",
    "#I used ChatGPT for help writing this loop\n",
    "for epoch in range(500):\n",
    "    for x,y in dl:\n",
    "        outputs = x @ coef #multiply trainX by coefs to get the predicted y's (output = our predicted y's)\n",
    "        loss = loss_func(outputs,y) #measures loss between our predicted y's with the real y's\n",
    "        loss.backward()\n",
    "        optimizer.step()\n",
    "        optimizer.zero_grad()\n"
   ]
  },
  {
   "cell_type": "code",
   "execution_count": 16,
   "id": "ac4b8407-75fe-4d89-9b70-ff7bab6d9700",
   "metadata": {},
   "outputs": [
    {
     "data": {
      "text/plain": [
       "26.8113940147193"
      ]
     },
     "execution_count": 16,
     "metadata": {},
     "output_type": "execute_result"
    }
   ],
   "source": [
    "#Q9: what is the MSE over the training data, using the coefficients resulting from the above training?\n",
    "torch.mean(torch.square(torch.sub((trainX @ coef), trainY))).item()"
   ]
  },
  {
   "cell_type": "code",
   "execution_count": 17,
   "id": "ce5f3683-bb63-456f-be29-64469cddd923",
   "metadata": {},
   "outputs": [
    {
     "data": {
      "text/plain": [
       "29.05854692548551"
      ]
     },
     "execution_count": 17,
     "metadata": {},
     "output_type": "execute_result"
    }
   ],
   "source": [
    "#Q10: what is the MSE over the test data?\n",
    "torch.mean(torch.square(torch.sub((testX @ coef), testY))).item()"
   ]
  }
 ],
 "metadata": {
  "kernelspec": {
   "display_name": "Python 3 (ipykernel)",
   "language": "python",
   "name": "python3"
  },
  "language_info": {
   "codemirror_mode": {
    "name": "ipython",
    "version": 3
   },
   "file_extension": ".py",
   "mimetype": "text/x-python",
   "name": "python",
   "nbconvert_exporter": "python",
   "pygments_lexer": "ipython3",
   "version": "3.11.5"
  }
 },
 "nbformat": 4,
 "nbformat_minor": 5
}
